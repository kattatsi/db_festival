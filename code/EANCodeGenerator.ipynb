{
  "nbformat": 4,
  "nbformat_minor": 0,
  "metadata": {
    "colab": {
      "provenance": []
    },
    "kernelspec": {
      "name": "python3",
      "display_name": "Python 3"
    },
    "language_info": {
      "name": "python"
    }
  },
  "cells": [
    {
      "cell_type": "code",
      "execution_count": null,
      "metadata": {
        "colab": {
          "base_uri": "https://localhost:8080/"
        },
        "id": "vo4l4-K3_9hC",
        "outputId": "b1ac38ad-4a4a-4c4d-fd52-1397c9e03a82"
      },
      "outputs": [
        {
          "output_type": "stream",
          "name": "stdout",
          "text": [
            "Drive already mounted at /content/drive; to attempt to forcibly remount, call drive.mount(\"/content/drive\", force_remount=True).\n",
            "ticketeanfix.sql\n",
            "Επιτυχία! Όλα τα EAN codes αντικαταστάθηκαν. Το αρχείο αποθηκεύτηκε ως: fixed3\n"
          ]
        }
      ],
      "source": [
        "import random\n",
        "from google.colab import drive\n",
        "\n",
        "def generate_valid_ean13():\n",
        "    \"\"\"Δημιουργεί έγκυρο EAN-13 barcode με σωστό check digit\"\"\"\n",
        "    # Πρώτα 12 τυχαία ψηφία\n",
        "    ean = [random.randint(0, 9) for _ in range(12)]\n",
        "\n",
        "    # Υπολογισμός check digit (σωστός αλγόριθμος)\n",
        "    sum_even = sum(ean[i] for i in range(1, 12, 2))  # Άρτια positions (2nd, 4th,...)\n",
        "    sum_odd = sum(ean[i] for i in range(0, 12, 2))   # Περιττά positions (1st, 3rd,...)\n",
        "    total = sum_odd * 3 + sum_even\n",
        "    check_digit = (10 - (total % 10)) % 10\n",
        "\n",
        "    # Επιστροφή ως string 13 ψηφίων\n",
        "    return ''.join(map(str, ean)) + str(check_digit)\n",
        "\n",
        "def replace_ean_codes(input_file, output_file):\n",
        "    \"\"\"Αντικαθιστά ΟΛΑ τα EAN codes στο SQL αρχείο\"\"\"\n",
        "    with open(input_file, 'r') as infile, open(output_file, 'w') as outfile:\n",
        "        for line in infile:\n",
        "            if 'INSERT INTO `ticket`' in line:\n",
        "                # Χωρίζουμε τη γραμμή για να βρούμε το EANCode\n",
        "                parts = line.split('VALUES (')\n",
        "                if len(parts) == 2:\n",
        "                    values = parts[1].split(',')\n",
        "                    if len(values) > 3:  # Το EANCode είναι στη 4η θέση (index 3)\n",
        "                        # Αντικατάσταση με νέο EAN-13\n",
        "                        values[3] = ' ' + generate_valid_ean13()  # Προσοχή στο κενό πριν\n",
        "                        new_line = parts[0] + 'VALUES (' + ','.join(values)\n",
        "                        outfile.write(new_line)\n",
        "                        continue\n",
        "            outfile.write(line)\n",
        "\n",
        "def main():\n",
        "    # Σύνδεση με Google Drive\n",
        "    drive.mount('/content/drive')\n",
        "\n",
        "    # Διαδρομές αρχείων\n",
        "    input_path = input(\"ticketeanfix.sql\").strip()\n",
        "    output_path = 'fixed3' + input_path.split('/')[-1]\n",
        "\n",
        "    full_input = f\"/content/drive/MyDrive/ticketeanfix.sql\"\n",
        "    full_output = f\"/content/drive/MyDrive/{output_path}\"\n",
        "\n",
        "    try:\n",
        "        replace_ean_codes(full_input, full_output)\n",
        "        print(f\"Επιτυχία! Όλα τα EAN codes αντικαταστάθηκαν. Το αρχείο αποθηκεύτηκε ως: {output_path}\")\n",
        "    except Exception as e:\n",
        "        print(f\"Σφάλμα: {str(e)}\")\n",
        "\n",
        "if __name__ == \"__main__\":\n",
        "    main()"
      ]
    }
  ]
}