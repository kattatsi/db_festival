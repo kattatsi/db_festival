{
  "nbformat": 4,
  "nbformat_minor": 0,
  "metadata": {
    "colab": {
      "provenance": []
    },
    "kernelspec": {
      "name": "python3",
      "display_name": "Python 3"
    },
    "language_info": {
      "name": "python"
    }
  },
  "cells": [
    {
      "cell_type": "code",
      "execution_count": null,
      "metadata": {
        "id": "0JRTBM7NyHvk"
      },
      "outputs": [],
      "source": [
        "import pandas as pd\n",
        "from pandas.api.types import is_string_dtype\n"
      ]
    },
    {
      "cell_type": "code",
      "source": [
        "from google.colab import drive\n",
        "drive.mount('/content/drive')"
      ],
      "metadata": {
        "colab": {
          "base_uri": "https://localhost:8080/"
        },
        "id": "5CFUI5zW19lk",
        "outputId": "7c1af0ed-79ad-4740-a815-f025a83dfeb8"
      },
      "execution_count": null,
      "outputs": [
        {
          "output_type": "stream",
          "name": "stdout",
          "text": [
            "Drive already mounted at /content/drive; to attempt to forcibly remount, call drive.mount(\"/content/drive\", force_remount=True).\n"
          ]
        }
      ]
    },
    {
      "cell_type": "code",
      "source": [
        "import pandas as pd\n",
        "from pandas.api.types import is_string_dtype, is_integer_dtype, is_float_dtype, is_bool_dtype\n",
        "\n",
        "tables_order = [\n",
        "    \"Image\", \"Continent\", \"Location\", \"Festival\", \"Stage\", \"Event\", \"Equipment\",\n",
        "    \"Role\", \"Experience\", \"Staff\", \"Performer\", \"Performance_type\", \"Performance\",\n",
        "    \"Artist\", \"Visitor\", \"Artist_has_Performer\", \"Ticket_type\", \"Payment_method\",\n",
        "    \"Ticket\", \"ResaleQueue\", \"Likert\", \"Rating\", \"Event_has_Staff\", \"Genre\",\n",
        "    \"Subgenre\", \"Performer_has_Subgenre\", \"Stage_has_Equipment\", \"Visitor_wants_Ticket\"\n",
        "]\n",
        "\n",
        "queries = [\n",
        "    \"USE mydb;\",\n",
        "    \"SET SESSION sql_mode='NO_AUTO_VALUE_ON_ZERO';\",\n",
        "    \"SET FOREIGN_KEY_CHECKS=0;\"\n",
        "]\n",
        "\n",
        "for table in tables_order:\n",
        "    try:\n",
        "        df = pd.read_csv(f\"drive/MyDrive/festival_data_new/{table}.csv\")\n",
        "\n",
        "        # Convert NaN/NA values to NULL\n",
        "        df = df.where(pd.notnull(df), None)\n",
        "\n",
        "        columns = \", \".join([f\"`{col}`\" for col in df.columns])\n",
        "\n",
        "        # Prepare the INSERT statement with proper value formatting\n",
        "        sql = f\"INSERT INTO `{table.lower()}` ({columns}) VALUES (\"\n",
        "\n",
        "        for row in df.itertuples(index=False, name=None):\n",
        "            values = []\n",
        "            for val in row:\n",
        "                if val is None:\n",
        "                    values.append(\"NULL\")\n",
        "                elif isinstance(val, str):\n",
        "                    # Escape single quotes and wrap in quotes\n",
        "                    val_escaped = val.replace(\"'\", \"''\")\n",
        "                    values.append(f\"'{val_escaped}'\")\n",
        "                elif isinstance(val, (int, float)) and not pd.isna(val):\n",
        "                    values.append(str(val))\n",
        "                elif isinstance(val, bool):\n",
        "                    values.append(str(int(val)))\n",
        "                else:\n",
        "                    values.append(\"NULL\")\n",
        "\n",
        "            query = sql + \", \".join(values) + \");\"\n",
        "            queries.append(query)\n",
        "\n",
        "    except FileNotFoundError:\n",
        "        print(f\"Warning: File not found for table {table} - skipping\")\n",
        "    except Exception as e:\n",
        "        print(f\"Error processing table {table}: {str(e)}\")\n",
        "\n",
        "queries.append(\"SET FOREIGN_KEY_CHECKS=1;\")\n",
        "\n",
        "with open(\"dml_script_fixed.sql\", \"w\", encoding=\"utf-8\") as f:\n",
        "    for query in queries:\n",
        "        f.write(query + \"\\n\")\n",
        "\n",
        "print(\"Fixed DML script generated successfully as dml_script_fixed.sql\")"
      ],
      "metadata": {
        "colab": {
          "base_uri": "https://localhost:8080/"
        },
        "id": "KeDkRLRqz_Z0",
        "outputId": "0bacce7b-4398-4a16-a894-b95bdae48bd3"
      },
      "execution_count": null,
      "outputs": [
        {
          "output_type": "stream",
          "name": "stdout",
          "text": [
            "Fixed DML script generated successfully as dml_script_fixed.sql\n"
          ]
        }
      ]
    }
  ]
}